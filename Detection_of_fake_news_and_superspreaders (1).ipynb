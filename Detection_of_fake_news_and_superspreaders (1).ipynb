{
  "nbformat": 4,
  "nbformat_minor": 0,
  "metadata": {
    "colab": {
      "name": "Detection_of_fake_news_and_superspreaders.ipynb",
      "provenance": [],
      "collapsed_sections": []
    },
    "kernelspec": {
      "name": "python3",
      "display_name": "Python 3"
    },
    "language_info": {
      "name": "python"
    }
  },
  "cells": [
    {
      "cell_type": "markdown",
      "source": [
        "Detection and Classification Fake news and Superspreaders on social media in the context of covid-19."
      ],
      "metadata": {
        "id": "Ac2obksMZlkO"
      }
    },
    {
      "cell_type": "markdown",
      "metadata": {
        "id": "rqf5EL80_f4q"
      },
      "source": [
        "Dataset - 1. Fake and Real news dataset from Kaggle(Bisaillon C.)"
      ]
    },
    {
      "cell_type": "code",
      "metadata": {
        "colab": {
          "base_uri": "https://localhost:8080/"
        },
        "id": "diiTeZdo-EcQ",
        "outputId": "e4765bb4-d550-43c0-ea7d-ef982067bcf6"
      },
      "source": [
        "#Dont run this cell if you want to use 2nd dataset.\n",
        "import pandas as pd\n",
        "#Data should be uploade before using.\n",
        "\n",
        "df_0 = pd.read_csv('True_New.csv')\n",
        "df_1 = pd.read_csv('Fake_New.csv')#Reading the data from csv file.\n",
        "\n",
        "df_0[\"Label\"] = 0 #For true news Label is 0\n",
        "df_1[\"Label\"] = 1 #For fake news Label is 1\n",
        "#df_0.shape #To check the quantity of data\n",
        "#df_0.head()\n",
        "\n",
        "final_fake_data = df_1[['title','Label']]\n",
        "final_true_data = df_0[['title','Label']]\n",
        "final_fake_data = final_fake_data[:5000] # first 5000 data entries\n",
        "final_true_data = final_true_data[:5000] ## first 5000 data entries\n",
        "\n",
        "out = final_fake_data.append(final_true_data)\n",
        "out = out[:10000]\n",
        "out.shape\n",
        "\n",
        "out=out.dropna() #To drop blank entries\n",
        "\n",
        "#out.shape\n",
        "\n",
        "out_copy = out.copy()\n",
        "\n",
        "out_new_copy = out_copy.sample(frac=1)\n",
        "out_new_copy = out_new_copy.reset_index(inplace = False,drop = True)#For shuffling the data\n",
        "print(out_new_copy)\n",
        "\n"
      ],
      "execution_count": null,
      "outputs": [
        {
          "output_type": "stream",
          "name": "stdout",
          "text": [
            "                                                  title  Label\n",
            "0      WATCH: Trump Minion Makes HUGE Slip About Who...      1\n",
            "1     Texas governor approves adoption bill that cri...      0\n",
            "2     Trump to nominate Juster to be ambassador to I...      0\n",
            "3      Rice chides Trump for criticism of judges, media      0\n",
            "4     Trump administration red tape tangles up visas...      0\n",
            "...                                                 ...    ...\n",
            "9995   BUSTED: Trump Supporter Used Poll Watcher Cre...      1\n",
            "9996  Belarus crackdown throws U.S. sanctions relief...      0\n",
            "9997  Senators grill U.S. education secretary on pro...      0\n",
            "9998  Trump tweets about Russia probe spark warnings...      0\n",
            "9999   Ethics Office Just Called Out GOP For Shady S...      1\n",
            "\n",
            "[10000 rows x 2 columns]\n"
          ]
        }
      ]
    },
    {
      "cell_type": "markdown",
      "metadata": {
        "id": "9sPZm3HFc9Z7"
      },
      "source": [
        "Dataset - 2. CoAid Dataset(Limen C. and Lee D.,2020)"
      ]
    },
    {
      "cell_type": "code",
      "metadata": {
        "colab": {
          "base_uri": "https://localhost:8080/"
        },
        "id": "eI1sJfBZc8Ow",
        "outputId": "ce7a4c61-6bd9-44c6-efd3-cf9da42078e7"
      },
      "source": [
        "\n",
        "import pandas as pd\n",
        "#Reading the data from csv file.\n",
        "df_0=pd.read_csv('NewsReal1COVID-19.csv')\n",
        "\n",
        "df_1=pd.read_csv('NewsFake1COVID-19.csv')\n",
        "\n",
        "df_2=pd.read_csv('NewsReal2COVID-19.csv')\n",
        "\n",
        "df_3=pd.read_csv('NewsFake2COVID-19.csv')\n",
        "\n",
        "df_4=pd.read_csv('NewsReal3COVID-19.csv')\n",
        "\n",
        "df_5=pd.read_csv('NewsFake3COVID-19.csv')\n",
        "\n",
        "df_6=pd.read_csv('NewsReal4COVID-19.csv')\n",
        "\n",
        "df_7=pd.read_csv('NewsFake4COVID-19.csv')\n",
        "\n",
        "#Adding all the data together.\n",
        "\n",
        "result_fake = pd.concat([df_1,df_3,df_5,df_7], axis=0)\n",
        "#result_fake.shape\n",
        "result_real = pd.concat([df_0,df_2,df_4,df_6], axis=0)\n",
        "#result_real.shape\n",
        "\n",
        "\n",
        "result_fake['Label'] = '0' #For fake news Label is 0\n",
        "print(result_fake.shape)\n",
        "final_fake_data = result_fake[['title', 'Label']]\n",
        "#final_fake_data.head()\n",
        "\n",
        "result_real['Label'] = '1' #For true news Label is 1\n",
        "print(result_real.shape)\n",
        "final_real_data = result_real[['title', 'Label']]\n",
        "#final_real_data.head()\n",
        "\n",
        "out = final_fake_data.append(final_real_data)\n",
        "#print(out)\n",
        "#out.shape #To check the quantity of data\n",
        "\n",
        "out=out.dropna()#To drop blank entries\n",
        "#out.shape\n",
        "\n",
        "out_copy = out.copy() #copying of data\n",
        "#print(out_copy)\n",
        "#out_copy.shape\n",
        "\n",
        "\n",
        "out_new_copy = out_copy.sample(frac=1)\n",
        "out_new_copy = out_new_copy.reset_index(inplace = False,drop = True) #For shuffling the data\n",
        "print(out_new_copy)\n"
      ],
      "execution_count": null,
      "outputs": [
        {
          "output_type": "stream",
          "name": "stdout",
          "text": [
            "(925, 16)\n",
            "(4532, 11)\n",
            "                                                  title Label\n",
            "0     Monitoring and Evaluation Checklist for K-12 S...     1\n",
            "1                     How Effective is the Flu Vaccine?     1\n",
            "2     Thrombosis expert on COVID-19: 'I've never see...     1\n",
            "3     COVID-19: Possible mechanism for blood clottin...     1\n",
            "4     Many Seniors With Heart Failure Take 10-plus Meds     1\n",
            "...                                                 ...   ...\n",
            "5452           Coronavirus (COVID-19) Media Information     1\n",
            "5453  Claim that Rep. Alexandria Ocasio-Cortez tweet...     0\n",
            "5454            Coronavirus vs. allergies: What to know     1\n",
            "5455  Six ways home-based cardiac rehab keeps patien...     1\n",
            "5456                                       Publications     1\n",
            "\n",
            "[5457 rows x 2 columns]\n"
          ]
        }
      ]
    },
    {
      "cell_type": "markdown",
      "metadata": {
        "id": "j112ANSABLp_"
      },
      "source": [
        "Data pre-processing"
      ]
    },
    {
      "cell_type": "code",
      "metadata": {
        "colab": {
          "base_uri": "https://localhost:8080/"
        },
        "id": "76cNaEv-BEj8",
        "outputId": "7a4aa0b5-7bda-4b40-eae9-4f13b65d3782"
      },
      "source": [
        "import re\n",
        "import nltk #library for data processing\n",
        "nltk.download('stopwords')\n",
        "nltk.download('punkt')\n",
        "from nltk.corpus import stopwords\n",
        "from nltk.stem.porter import PorterStemmer\n",
        "ps = PorterStemmer()\n",
        "corpus = []\n",
        "for i in range(0, len(out_new_copy)):\n",
        "    re_view = re.sub(r'[^a-zA-Z0-9]', ' ',out_new_copy['title'][i])\n",
        "    re_view = re_view.lower()\n",
        "    re_view = re_view.split()\n",
        "    \n",
        "    #re_view = [ps.stem(word) for word in re_view if not word in stopwords.words('english')] #comment this line if you want to run Word2Vec.\n",
        "    re_view = ' '.join(re_view)\n",
        "    corpus.append(re_view)"
      ],
      "execution_count": null,
      "outputs": [
        {
          "output_type": "stream",
          "name": "stdout",
          "text": [
            "[nltk_data] Downloading package stopwords to /root/nltk_data...\n",
            "[nltk_data]   Package stopwords is already up-to-date!\n",
            "[nltk_data] Downloading package punkt to /root/nltk_data...\n",
            "[nltk_data]   Package punkt is already up-to-date!\n"
          ]
        }
      ]
    },
    {
      "cell_type": "markdown",
      "metadata": {
        "id": "crDUGJV0eibU"
      },
      "source": [
        "Feature Extraction By using Word2Vec and analysis by neural network"
      ]
    },
    {
      "cell_type": "code",
      "metadata": {
        "colab": {
          "base_uri": "https://localhost:8080/"
        },
        "id": "mFt0GuGdenzc",
        "outputId": "f9f951be-e111-43df-91c9-3f1f2769a3d0"
      },
      "source": [
        "\n",
        "import gensim #First need to install library by using (pip install gensim)\n",
        "import numpy as np\n",
        "\n",
        "\n",
        "\n",
        "y = np.asarray(out_new_copy['Label'].astype(str).astype(int))\n",
        "#print(y)\n",
        "\n",
        "\n",
        "X = [d.split() for d in corpus]\n",
        "#Word2Vec model\n",
        "word2vec_model = gensim.models.Word2Vec(sentences=X, window=10, min_count=1)\n",
        "\n",
        "\n",
        "word2vec_model.wv.vectors.shape[0]\n",
        "\n",
        "#word2vec_model.wv.most_similar(['corona'])"
      ],
      "execution_count": null,
      "outputs": [
        {
          "output_type": "execute_result",
          "data": {
            "text/plain": [
              "6742"
            ]
          },
          "metadata": {},
          "execution_count": 4
        }
      ]
    },
    {
      "cell_type": "code",
      "metadata": {
        "id": "JMSfZGnye6e-"
      },
      "source": [
        "from keras.preprocessing.text import Tokenizer\n",
        "# For Tokeniztion\n",
        "tokenizer = Tokenizer()\n",
        "tokenizer.fit_on_texts(X)"
      ],
      "execution_count": null,
      "outputs": []
    },
    {
      "cell_type": "code",
      "metadata": {
        "id": "-_tc4vYLe-FC"
      },
      "source": [
        "X = tokenizer.texts_to_sequences(X)\n",
        "#tokenizer.word_index"
      ],
      "execution_count": null,
      "outputs": []
    },
    {
      "cell_type": "code",
      "metadata": {
        "colab": {
          "base_uri": "https://localhost:8080/",
          "height": 265
        },
        "id": "nFC48yh1fBVB",
        "outputId": "b09a7090-bad2-4dbe-c97b-2655a03132f4"
      },
      "source": [
        "import matplotlib.pyplot as plt\n",
        "plt.hist([len(x) for x in X],bins = 700) \n",
        "plt.show() #Foe checking the value of x"
      ],
      "execution_count": null,
      "outputs": [
        {
          "output_type": "display_data",
          "data": {
            "image/png": "[encoded data removed]",
            "text/plain": [
              "<Figure size 432x288 with 1 Axes>"
            ]
          },
          "metadata": {
            "needs_background": "light"
          }
        }
      ]
    },
    {
      "cell_type": "code",
      "metadata": {
        "colab": {
          "base_uri": "https://localhost:8080/"
        },
        "id": "yq6D9zs8fE1k",
        "outputId": "ace16eed-274b-42ad-8ad7-cf5b37c9085b"
      },
      "source": [
        "import numpy as np\n",
        "\n",
        "nos = np.array([len(x) for x in X])\n",
        "len(nos[nos>30])\n"
      ],
      "execution_count": null,
      "outputs": [
        {
          "output_type": "execute_result",
          "data": {
            "text/plain": [
              "87"
            ]
          },
          "metadata": {},
          "execution_count": 8
        }
      ]
    },
    {
      "cell_type": "code",
      "metadata": {
        "id": "nuGAqqmWfIGn"
      },
      "source": [
        "import keras\n",
        "from keras.preprocessing.sequence import pad_sequences\n",
        "maxlen = 100\n",
        "X = pad_sequences(X,maxlen = maxlen)# for padding\n",
        "#len(X[0])"
      ],
      "execution_count": null,
      "outputs": []
    },
    {
      "cell_type": "code",
      "metadata": {
        "id": "ftqbPwcYfKzU"
      },
      "source": [
        "vocab_size = len(tokenizer.word_index) + 1\n",
        "vocab = tokenizer.word_index"
      ],
      "execution_count": null,
      "outputs": []
    },
    {
      "cell_type": "code",
      "metadata": {
        "id": "XURc2H5ZfNO8"
      },
      "source": [
        "def weight_matrix(model): #Generation of matrix\n",
        "  weight_matrix = np.zeros((vocab_size,100))\n",
        "\n",
        "  for word ,i in vocab.items():\n",
        "    weight_matrix[i] = model.wv[word]\n",
        "\n",
        "  return weight_matrix\n"
      ],
      "execution_count": null,
      "outputs": []
    },
    {
      "cell_type": "code",
      "metadata": {
        "colab": {
          "base_uri": "https://localhost:8080/"
        },
        "id": "xD6iDNXefQF9",
        "outputId": "8780cfd8-8716-4dc9-cf66-3b50452610d0"
      },
      "source": [
        "#Embedding of matrix.\n",
        "embedding_vec = weight_matrix(word2vec_model)\n",
        "embedding_vec.shape"
      ],
      "execution_count": null,
      "outputs": [
        {
          "output_type": "execute_result",
          "data": {
            "text/plain": [
              "(6743, 100)"
            ]
          },
          "metadata": {},
          "execution_count": 12
        }
      ]
    },
    {
      "cell_type": "markdown",
      "source": [
        "Neural Network"
      ],
      "metadata": {
        "id": "r10xAIHkehy7"
      }
    },
    {
      "cell_type": "code",
      "metadata": {
        "id": "WH4CTtTSfVA2"
      },
      "source": [
        "import tensorflow \n",
        "import tensorflow.keras\n",
        "from keras.layers import Embedding\n",
        "from keras.layers import LSTM\n",
        "from keras.layers import Dense\n",
        "from tensorflow.keras.optimizers import Adam\n",
        "\n",
        "model = keras.Sequential()\n",
        "model.add(Embedding(vocab_size,output_dim = 100,weights = [embedding_vec],input_length = maxlen,trainable = False))\n",
        "model.add(LSTM(units = 128))\n",
        "model.add(Dense(1,activation = 'sigmoid'))\n",
        "opt = tensorflow.keras.optimizers.Adam(learning_rate=0.01)\n",
        "model.compile(optimizer=opt,\n",
        "              loss=tensorflow.keras.losses.BinaryCrossentropy(),metrics = ['acc'])"
      ],
      "execution_count": null,
      "outputs": []
    },
    {
      "cell_type": "code",
      "metadata": {
        "colab": {
          "base_uri": "https://localhost:8080/"
        },
        "id": "dQrDO1eXfY9g",
        "outputId": "c15f7431-8543-44b3-c5e7-38b2697873f6"
      },
      "source": [
        "model.summary()"
      ],
      "execution_count": null,
      "outputs": [
        {
          "output_type": "stream",
          "name": "stdout",
          "text": [
            "Model: \"sequential\"\n",
            "_________________________________________________________________\n",
            " Layer (type)                Output Shape              Param #   \n",
            "=================================================================\n",
            " embedding (Embedding)       (None, 100, 100)          674300    \n",
            "                                                                 \n",
            " lstm (LSTM)                 (None, 128)               117248    \n",
            "                                                                 \n",
            " dense (Dense)               (None, 1)                 129       \n",
            "                                                                 \n",
            "=================================================================\n",
            "Total params: 791,677\n",
            "Trainable params: 117,377\n",
            "Non-trainable params: 674,300\n",
            "_________________________________________________________________\n"
          ]
        }
      ]
    },
    {
      "cell_type": "markdown",
      "metadata": {
        "id": "KAPRmzcIsJKU"
      },
      "source": [
        "Splitting the data"
      ]
    },
    {
      "cell_type": "code",
      "metadata": {
        "id": "GHUKyvkEfb6-"
      },
      "source": [
        "#splitting of data\n",
        "from sklearn.model_selection import train_test_split\n",
        "X_train, X_test, y_train, y_test = train_test_split(X, y)\n"
      ],
      "execution_count": null,
      "outputs": []
    },
    {
      "cell_type": "code",
      "metadata": {
        "colab": {
          "base_uri": "https://localhost:8080/"
        },
        "id": "5asGo8-EfekH",
        "outputId": "3732bf03-b52a-4b74-bab7-686f14fb2c61"
      },
      "source": [
        "model.fit(X_train,y_train,validation_split=0.3,epochs=10)"
      ],
      "execution_count": null,
      "outputs": [
        {
          "output_type": "stream",
          "name": "stdout",
          "text": [
            "Epoch 1/10\n",
            "90/90 [==============================] - 13s 120ms/step - loss: 0.4638 - acc: 0.8328 - val_loss: 0.4476 - val_acc: 0.8176\n",
            "Epoch 2/10\n",
            "90/90 [==============================] - 10s 113ms/step - loss: 0.3865 - acc: 0.8520 - val_loss: 0.3812 - val_acc: 0.8583\n",
            "Epoch 3/10\n",
            "90/90 [==============================] - 10s 113ms/step - loss: 0.3589 - acc: 0.8649 - val_loss: 0.3822 - val_acc: 0.8550\n",
            "Epoch 4/10\n",
            "90/90 [==============================] - 10s 114ms/step - loss: 0.4391 - acc: 0.8163 - val_loss: 0.3990 - val_acc: 0.8249\n",
            "Epoch 5/10\n",
            "90/90 [==============================] - 10s 114ms/step - loss: 0.4243 - acc: 0.8251 - val_loss: 0.4484 - val_acc: 0.8176\n",
            "Epoch 6/10\n",
            "90/90 [==============================] - 10s 115ms/step - loss: 0.4177 - acc: 0.8324 - val_loss: 0.4175 - val_acc: 0.8176\n",
            "Epoch 7/10\n",
            "90/90 [==============================] - 10s 115ms/step - loss: 0.3812 - acc: 0.8467 - val_loss: 0.3804 - val_acc: 0.8412\n",
            "Epoch 8/10\n",
            "90/90 [==============================] - 10s 113ms/step - loss: 0.3692 - acc: 0.8589 - val_loss: 0.3892 - val_acc: 0.8436\n",
            "Epoch 9/10\n",
            "90/90 [==============================] - 10s 113ms/step - loss: 0.3527 - acc: 0.8659 - val_loss: 0.3597 - val_acc: 0.8648\n",
            "Epoch 10/10\n",
            "90/90 [==============================] - 10s 113ms/step - loss: 0.3406 - acc: 0.8701 - val_loss: 0.3504 - val_acc: 0.8738\n"
          ]
        },
        {
          "output_type": "execute_result",
          "data": {
            "text/plain": [
              "<keras.callbacks.History at 0x7f076f43dc90>"
            ]
          },
          "metadata": {},
          "execution_count": 16
        }
      ]
    },
    {
      "cell_type": "code",
      "metadata": {
        "id": "7-ZoIPO1fhLJ"
      },
      "source": [
        "y_pred = (model.predict(X_test) >=0.5).astype(int) \n",
        "#print(y_pred)"
      ],
      "execution_count": null,
      "outputs": []
    },
    {
      "cell_type": "code",
      "metadata": {
        "id": "DluHGs6Qfj2Y"
      },
      "source": [
        "from sklearn.metrics import accuracy_score, precision_score, recall_score, f1_score, confusion_matrix\n",
        "\n",
        "accuracy = accuracy_score(y_test,y_pred)\n",
        "precision= precision_score(y_test,y_pred,average='weighted')\n",
        "recall = recall_score(y_test,y_pred,average='weighted')\n",
        "f1 = f1_score(y_test,y_pred,average='weighted')"
      ],
      "execution_count": null,
      "outputs": []
    },
    {
      "cell_type": "code",
      "metadata": {
        "colab": {
          "base_uri": "https://localhost:8080/"
        },
        "id": "VkV0FILhfmvl",
        "outputId": "70384fee-1e89-4485-93ad-0f9cdddedd13"
      },
      "source": [
        "#print(\"Loss\",loss)\n",
        "print(\"accuracy\",accuracy)\n",
        "print(\"f1_score\",f1)\n",
        "print(\"precision\",precision)\n",
        "print(\"recall\",recall)"
      ],
      "execution_count": null,
      "outputs": [
        {
          "output_type": "stream",
          "name": "stdout",
          "text": [
            "accuracy 0.8688644688644689\n",
            "f1_score 0.8485968806760477\n",
            "precision 0.8536263736263736\n",
            "recall 0.8688644688644689\n"
          ]
        }
      ]
    },
    {
      "cell_type": "code",
      "metadata": {
        "id": "RwOhUEl5fpsM"
      },
      "source": [
        "#cheecking of model.\n",
        "x = [\"The COVID-19 virus cannot spread in areas sprayed with eucalyptus oil vapor.\"]\n",
        "#x = [\"A test on video with a gas detector shows that face masks result in dangerous oxygen levels for the wearer.\"]\n",
        "x = tokenizer.texts_to_sequences(x)\n",
        "x = pad_sequences(x,maxlen=maxlen)\n",
        "#print(x)"
      ],
      "execution_count": null,
      "outputs": []
    },
    {
      "cell_type": "code",
      "metadata": {
        "colab": {
          "base_uri": "https://localhost:8080/"
        },
        "id": "U3oWXCDcfsao",
        "outputId": "015cc318-0e33-4437-a6bc-5faed11dbd40"
      },
      "source": [
        "#prediction of model\n",
        "#0 for fake and 1 for true\n",
        "#model.predict(x)\n",
        "(model.predict(x) >=0.5).astype(int)"
      ],
      "execution_count": null,
      "outputs": [
        {
          "output_type": "execute_result",
          "data": {
            "text/plain": [
              "array([[1]])"
            ]
          },
          "metadata": {},
          "execution_count": 53
        }
      ]
    },
    {
      "cell_type": "markdown",
      "metadata": {
        "id": "Blz_nYUy8Z28"
      },
      "source": [
        ""
      ]
    },
    {
      "cell_type": "markdown",
      "metadata": {
        "id": "Z37McUYnZb2h"
      },
      "source": [
        "Feature Extraction"
      ]
    },
    {
      "cell_type": "code",
      "metadata": {
        "id": "rqOZklINZZXJ"
      },
      "source": [
        "#uncomment the section which one need to use.\n",
        "from sklearn.feature_extraction.text import CountVectorizer, TfidfVectorizer, HashingVectorizer\n",
        "#by using CountVectorizer\n",
        "# from sklearn.feature_extraction.text import CountVectorizer\n",
        "# cv = CountVectorizer(max_features=5000,ngram_range=(1,3))\n",
        "# X = cv.fit_transform(corpus).toarray()\n",
        "\n",
        "#by using TfidfVectorizer(for multinomial naive bayes alpha=0.2 works best)\n",
        "from sklearn.feature_extraction.text import TfidfVectorizer\n",
        "cv = TfidfVectorizer()\n",
        "X = cv.fit_transform(corpus).toarray()\n",
        "\n",
        "#by using HashingVectorizer(no features names in hashingvectorizer)\n",
        "# from sklearn.feature_extraction.text import HashingVectorizer\n",
        "# cv = HashingVectorizer(n_features=5000,alternate_sign=False)\n",
        "# X = cv.fit_transform(corpus).toarray()\n",
        "\n",
        "#print(X)\n",
        "#X.shape"
      ],
      "execution_count": null,
      "outputs": []
    },
    {
      "cell_type": "code",
      "metadata": {
        "id": "8kv5UzsoZqzA"
      },
      "source": [
        "y = out_new_copy['Label']\n",
        "#y.shape\n",
        "#print(y)\n"
      ],
      "execution_count": null,
      "outputs": []
    },
    {
      "cell_type": "code",
      "metadata": {
        "colab": {
          "base_uri": "https://localhost:8080/"
        },
        "id": "QxKZ8vnHZwts",
        "outputId": "6aba5931-6c60-4d4f-a5a9-48083337a1da"
      },
      "source": [
        "#Splitting of data\n",
        "from sklearn.model_selection import train_test_split\n",
        "X_train, X_test, y_train, y_test = train_test_split(X, y, test_size=0.33, random_state=0)\n",
        "\n",
        "pd.set_option(\"display.max_rows\", 500)\n",
        "count_df = pd.DataFrame(X, columns=cv.get_feature_names())\n",
        "\n",
        "#print(count_df)"
      ],
      "execution_count": null,
      "outputs": [
        {
          "output_type": "stream",
          "name": "stderr",
          "text": [
            "/usr/local/lib/python3.7/dist-packages/sklearn/utils/deprecation.py:87: FutureWarning: Function get_feature_names is deprecated; get_feature_names is deprecated in 1.0 and will be removed in 1.2. Please use get_feature_names_out instead.\n",
            "  warnings.warn(msg, category=FutureWarning)\n"
          ]
        }
      ]
    },
    {
      "cell_type": "code",
      "metadata": {
        "id": "WdJD1uXngMov"
      },
      "source": [
        "#For plotting the confussion matrix.\n",
        "import matplotlib.pyplot as plt\n",
        "def plot_confusion_matrix(cm, classes,\n",
        "                          normalize=False,\n",
        "                          title='Confusion matrix',\n",
        "                          cmap=plt.cm.Blues):\n",
        "    \"\"\"\n",
        "    See full source and example: \n",
        "    http://scikit-learn.org/stable/auto_examples/model_selection/plot_confusion_matrix.html\n",
        "    \n",
        "    This function prints and plots the confusion matrix.\n",
        "    Normalization can be applied by setting `normalize=True`.\n",
        "    \"\"\"\n",
        "    plt.imshow(cm, interpolation='nearest', cmap=cmap)\n",
        "    plt.title(title)\n",
        "    plt.colorbar()\n",
        "    tick_marks = np.arange(len(classes))\n",
        "    plt.xticks(tick_marks, classes, rotation=45)\n",
        "    plt.yticks(tick_marks, classes)\n",
        "\n",
        "    if normalize:\n",
        "        cm = cm.astype('float') / cm.sum(axis=1)[:, np.newaxis]\n",
        "        print(\"Normalized confusion matrix\")\n",
        "    else:\n",
        "        print('Confusion matrix, without normalization')\n",
        "\n",
        "    thresh = cm.max() / 2.\n",
        "    for i, j in itertools.product(range(cm.shape[0]), range(cm.shape[1])):\n",
        "        plt.text(j, i, cm[i, j],\n",
        "                 horizontalalignment=\"center\",\n",
        "                 color=\"white\" if cm[i, j] > thresh else \"black\")\n",
        "\n",
        "    plt.tight_layout()\n",
        "    plt.ylabel('True label')\n",
        "    plt.xlabel('Predicted label')"
      ],
      "execution_count": null,
      "outputs": []
    },
    {
      "cell_type": "markdown",
      "metadata": {
        "id": "WyuIR_DxZ-Mz"
      },
      "source": [
        "Classifiers used"
      ]
    },
    {
      "cell_type": "code",
      "metadata": {
        "id": "2CWutoJkZ8HG"
      },
      "source": [
        "from sklearn import metrics\n",
        "import numpy as np\n",
        "import itertools\n",
        "\n",
        "models = {}\n",
        "\n",
        "#Support Vector Machine\n",
        "from sklearn import svm\n",
        "models['SVM'] = svm.SVC()\n",
        "\n",
        "\n",
        "# Support Vector Machines (Linear)\n",
        "from sklearn.svm import LinearSVC\n",
        "models['SVM-Linear'] = LinearSVC()\n",
        "\n",
        "# Naive Bayes Multinomial\n",
        "from sklearn.naive_bayes import MultinomialNB\n",
        "models['NB-Multinomial'] = MultinomialNB()\n",
        "\n",
        "# Naive Bayes Gaussian\n",
        "from sklearn.naive_bayes import GaussianNB\n",
        "models['NB-Gaussian'] = GaussianNB()\n",
        "\n",
        "# Passive Aggressive\n",
        "\n",
        "from sklearn.linear_model import PassiveAggressiveClassifier\n",
        "models['Passive Aggressive'] = PassiveAggressiveClassifier()\n",
        "\n",
        "# Logistic Regression\n",
        "from sklearn.linear_model import LogisticRegression\n",
        "models['Logistic Regression'] = LogisticRegression()\n",
        "\n",
        "# Decision Trees\n",
        "from sklearn.tree import DecisionTreeClassifier\n",
        "models['Decision Trees'] = DecisionTreeClassifier()\n",
        "\n",
        "# Random Forest\n",
        "from sklearn.ensemble import RandomForestClassifier\n",
        "models['Random Forest'] = RandomForestClassifier()\n",
        "\n",
        "\n",
        "# K-Nearest Neighbors\n",
        "from sklearn.neighbors import KNeighborsClassifier\n",
        "models['K-Nearest Neighbor'] = KNeighborsClassifier()\n",
        "\n"
      ],
      "execution_count": null,
      "outputs": []
    },
    {
      "cell_type": "code",
      "metadata": {
        "colab": {
          "base_uri": "https://localhost:8080/",
          "height": 328
        },
        "id": "rwTjQr2MaRRc",
        "outputId": "aeb231b0-69d4-4599-a879-0a29e252af7b"
      },
      "source": [
        "from sklearn.metrics import accuracy_score, precision_score, recall_score, f1_score, confusion_matrix\n",
        "\n",
        "accuracy, precision, recall, f1 = {}, {}, {}, {}\n",
        "\n",
        "for key in models.keys():\n",
        "    \n",
        "    # Fit all the classifier models\n",
        "    models[key].fit(X_train, y_train)\n",
        "    \n",
        "    # For all the Prediction \n",
        "    predictions = models[key].predict(X_test)\n",
        "    \n",
        "    # Foe calculating Accuracy, Precision, Recall and f1-score Metrics\n",
        "    accuracy[key] = accuracy_score(y_test,predictions)\n",
        "    precision[key] = precision_score(y_test,predictions,average='weighted')#average='weighted'\n",
        "    recall[key] = recall_score(y_test,predictions,average='weighted')\n",
        "    f1[key] = f1_score(y_test,predictions,average='weighted')\n",
        "    \n",
        "#Data in dataframe for visualization\n",
        "df_model = pd.DataFrame(index=models.keys(), columns=['Accuracy', 'Precision', 'Recall','f1-score'])\n",
        "df_model['Accuracy'] = accuracy.values()\n",
        "df_model['Precision'] = precision.values()\n",
        "df_model['Recall'] = recall.values()\n",
        "df_model['f1-score'] = f1.values()\n",
        "\n",
        "df_model"
      ],
      "execution_count": null,
      "outputs": [
        {
          "output_type": "execute_result",
          "data": {
            "text/html": [
              "<div>\n",
              "<style scoped>\n",
              "    .dataframe tbody tr th:only-of-type {\n",
              "        vertical-align: middle;\n",
              "    }\n",
              "\n",
              "    .dataframe tbody tr th {\n",
              "        vertical-align: top;\n",
              "    }\n",
              "\n",
              "    .dataframe thead th {\n",
              "        text-align: right;\n",
              "    }\n",
              "</style>\n",
              "<table border=\"1\" class=\"dataframe\">\n",
              "  <thead>\n",
              "    <tr style=\"text-align: right;\">\n",
              "      <th></th>\n",
              "      <th>Accuracy</th>\n",
              "      <th>Precision</th>\n",
              "      <th>Recall</th>\n",
              "      <th>f1-score</th>\n",
              "    </tr>\n",
              "  </thead>\n",
              "  <tbody>\n",
              "    <tr>\n",
              "      <th>SVM</th>\n",
              "      <td>0.929091</td>\n",
              "      <td>0.929304</td>\n",
              "      <td>0.929091</td>\n",
              "      <td>0.929074</td>\n",
              "    </tr>\n",
              "    <tr>\n",
              "      <th>SVM-Linear</th>\n",
              "      <td>0.928485</td>\n",
              "      <td>0.928503</td>\n",
              "      <td>0.928485</td>\n",
              "      <td>0.928482</td>\n",
              "    </tr>\n",
              "    <tr>\n",
              "      <th>NB-Multinomial</th>\n",
              "      <td>0.930606</td>\n",
              "      <td>0.930681</td>\n",
              "      <td>0.930606</td>\n",
              "      <td>0.930598</td>\n",
              "    </tr>\n",
              "    <tr>\n",
              "      <th>NB-Gaussian</th>\n",
              "      <td>0.835455</td>\n",
              "      <td>0.838154</td>\n",
              "      <td>0.835455</td>\n",
              "      <td>0.835040</td>\n",
              "    </tr>\n",
              "    <tr>\n",
              "      <th>Passive Aggressive</th>\n",
              "      <td>0.917273</td>\n",
              "      <td>0.917272</td>\n",
              "      <td>0.917273</td>\n",
              "      <td>0.917272</td>\n",
              "    </tr>\n",
              "    <tr>\n",
              "      <th>Logistic Regression</th>\n",
              "      <td>0.922424</td>\n",
              "      <td>0.922490</td>\n",
              "      <td>0.922424</td>\n",
              "      <td>0.922416</td>\n",
              "    </tr>\n",
              "    <tr>\n",
              "      <th>Decision Trees</th>\n",
              "      <td>0.835152</td>\n",
              "      <td>0.835392</td>\n",
              "      <td>0.835152</td>\n",
              "      <td>0.835095</td>\n",
              "    </tr>\n",
              "    <tr>\n",
              "      <th>Random Forest</th>\n",
              "      <td>0.902727</td>\n",
              "      <td>0.903962</td>\n",
              "      <td>0.902727</td>\n",
              "      <td>0.902625</td>\n",
              "    </tr>\n",
              "    <tr>\n",
              "      <th>K-Nearest Neighbor</th>\n",
              "      <td>0.869697</td>\n",
              "      <td>0.874228</td>\n",
              "      <td>0.869697</td>\n",
              "      <td>0.869224</td>\n",
              "    </tr>\n",
              "  </tbody>\n",
              "</table>\n",
              "</div>"
            ],
            "text/plain": [
              "                     Accuracy  Precision    Recall  f1-score\n",
              "SVM                  0.929091   0.929304  0.929091  0.929074\n",
              "SVM-Linear           0.928485   0.928503  0.928485  0.928482\n",
              "NB-Multinomial       0.930606   0.930681  0.930606  0.930598\n",
              "NB-Gaussian          0.835455   0.838154  0.835455  0.835040\n",
              "Passive Aggressive   0.917273   0.917272  0.917273  0.917272\n",
              "Logistic Regression  0.922424   0.922490  0.922424  0.922416\n",
              "Decision Trees       0.835152   0.835392  0.835152  0.835095\n",
              "Random Forest        0.902727   0.903962  0.902727  0.902625\n",
              "K-Nearest Neighbor   0.869697   0.874228  0.869697  0.869224"
            ]
          },
          "metadata": {},
          "execution_count": 15
        }
      ]
    },
    {
      "cell_type": "code",
      "metadata": {
        "colab": {
          "base_uri": "https://localhost:8080/",
          "height": 297
        },
        "id": "gbyD2n6BaWJB",
        "outputId": "56af1fd5-8564-4c2f-ca6d-759945f95fff"
      },
      "source": [
        "#For graphical representation of performance of classifiers.\n",
        "import matplotlib.pyplot as plt\n",
        "ax  = df_model.plot.bar(rot=45)\n",
        "ax.legend(ncol= len(models.keys()), bbox_to_anchor=(0, 1), loc='lower left', prop={'size': 5})\n",
        "plt.tight_layout()"
      ],
      "execution_count": null,
      "outputs": [
        {
          "output_type": "display_data",
          "data": {
            "image/png": "[encoded data removed]",
            "text/plain": [
              "<Figure size 432x288 with 1 Axes>"
            ]
          },
          "metadata": {
            "needs_background": "light"
          }
        }
      ]
    },
    {
      "cell_type": "markdown",
      "metadata": {
        "id": "-9qJ5HoWr-FL"
      },
      "source": [
        "Super Spreader Analysis."
      ]
    },
    {
      "cell_type": "code",
      "metadata": {
        "colab": {
          "base_uri": "https://localhost:8080/"
        },
        "id": "02WQryGmYHJ2",
        "outputId": "ff164ea1-88de-4e14-e89e-7257dff32661"
      },
      "source": [
        "pip install tweepy"
      ],
      "execution_count": null,
      "outputs": [
        {
          "output_type": "stream",
          "name": "stdout",
          "text": [
            "Requirement already satisfied: tweepy in /usr/local/lib/python3.7/dist-packages (3.10.0)\n",
            "Requirement already satisfied: requests[socks]>=2.11.1 in /usr/local/lib/python3.7/dist-packages (from tweepy) (2.23.0)\n",
            "Requirement already satisfied: requests-oauthlib>=0.7.0 in /usr/local/lib/python3.7/dist-packages (from tweepy) (1.3.0)\n",
            "Requirement already satisfied: six>=1.10.0 in /usr/local/lib/python3.7/dist-packages (from tweepy) (1.15.0)\n",
            "Requirement already satisfied: oauthlib>=3.0.0 in /usr/local/lib/python3.7/dist-packages (from requests-oauthlib>=0.7.0->tweepy) (3.1.1)\n",
            "Requirement already satisfied: idna<3,>=2.5 in /usr/local/lib/python3.7/dist-packages (from requests[socks]>=2.11.1->tweepy) (2.10)\n",
            "Requirement already satisfied: urllib3!=1.25.0,!=1.25.1,<1.26,>=1.21.1 in /usr/local/lib/python3.7/dist-packages (from requests[socks]>=2.11.1->tweepy) (1.24.3)\n",
            "Requirement already satisfied: certifi>=2017.4.17 in /usr/local/lib/python3.7/dist-packages (from requests[socks]>=2.11.1->tweepy) (2021.10.8)\n",
            "Requirement already satisfied: chardet<4,>=3.0.2 in /usr/local/lib/python3.7/dist-packages (from requests[socks]>=2.11.1->tweepy) (3.0.4)\n",
            "Requirement already satisfied: PySocks!=1.5.7,>=1.5.6 in /usr/local/lib/python3.7/dist-packages (from requests[socks]>=2.11.1->tweepy) (1.7.1)\n"
          ]
        }
      ]
    },
    {
      "cell_type": "code",
      "source": [
        "import pandas as pd\n",
        "import numpy as np\n",
        "import tweepy\n",
        "\n",
        "#authentication keys for using twitter api\n",
        "#Please provide all the keys.(For security purpose keys are not provided.)\n",
        "consumer_key = ''\n",
        "consumer_secret = ''\n",
        "access_token = ''\n",
        "access_token_secret = ''\n",
        "\n",
        "auth = tweepy.OAuthHandler(consumer_key, consumer_secret)\n",
        "auth.set_access_token(access_token, access_token_secret)\n",
        "\n",
        "\n",
        "api = tweepy.API(auth)\n",
        "\n",
        "\n",
        "#Tweet id's of different types of users.\n",
        "\n",
        "fake_tweet_id = [\"1252630938770649089\",\"1243968198111789058\",\n",
        "\"1242474839966765056\",\"1242461115616866304\",\"1242400142335983619\",\n",
        "\"1238131052582928385\",\"1254164579459854336\",\"1256227600936177664\",\n",
        "\"1256215023619395584\",\"1256167023148765186\",\"1256064242572300293\",\n",
        "\"1256013502298370048\",\"1255958833999933440\",\"1255911880436178947\",\n",
        "\"1255841759877349376\",\"1255655200511033344\",\"1255638434821083138\",\n",
        "\"1255630129000099840\",\"1255568949862957057\",\"1448329324365484032\",\n",
        "\"1298551702061228033\",\"1458475230872014854\",\"1458238546041470979\",\n",
        "\"1392466469636612097\",\"1458009811833036802\",\"1459168716189483011\"]\n",
        "\n",
        "\n",
        "\n",
        "user_ID = []\n",
        "user_NAME = []\n",
        "no_of_FOLLOWERS = []\n",
        "no_of_FOLLOWEES = []\n",
        "\n",
        "for i in fake_tweet_id:\n",
        "    \n",
        "    try:\n",
        "        \n",
        "        tweets = api.get_status(i)\n",
        "        user_ID.append(tweets.user.id_str) #for user id\n",
        "        user_NAME.append(tweets.user.name) #for user name\n",
        "        no_of_FOLLOWERS.append(tweets.user.followers_count) #for followers count\n",
        "        no_of_FOLLOWEES.append(tweets.user.friends_count) #for friends count\n",
        "\n",
        "    \n",
        "    except tweepy.TweepError:\n",
        "        \n",
        "        pass\n",
        "\n",
        "\n",
        "\n",
        "\n"
      ],
      "metadata": {
        "id": "q94UK6dvf9A4"
      },
      "execution_count": 1,
      "outputs": []
    },
    {
      "cell_type": "code",
      "source": [
        "d = {\"User Name\":user_NAME,\n",
        "    \"No of Followers\":no_of_FOLLOWERS,\n",
        "    \"No of friends\":no_of_FOLLOWEES}\n",
        "\n",
        "initial_df = pd.DataFrame(data=d)\n",
        "\n",
        "#To calculate the folllowers to followee(friends) ratio\n",
        "initial_df[\"followers to followee ratio\"] =(initial_df[\"No of Followers\"])/((initial_df[\"No of Followers\"])+(initial_df[\"No of friends\"]))\n",
        "print(initial_df)"
      ],
      "metadata": {
        "colab": {
          "base_uri": "https://localhost:8080/"
        },
        "id": "VyetIIenf_kj",
        "outputId": "a2259b29-0ff6-47c4-c82e-5d2701d1e8d1"
      },
      "execution_count": 2,
      "outputs": [
        {
          "output_type": "stream",
          "name": "stdout",
          "text": [
            "                  User Name  ...  followers to followee ratio\n",
            "0             Mohima Akther  ...                     0.166667\n",
            "1                Menstellar  ...                     0.333333\n",
            "2             DoctorCare247  ...                     0.811609\n",
            "3   SivaKumar S (Stay Safe)  ...                     0.957530\n",
            "4        #WorldsBaitLeef 🇬🇾  ...                     0.507078\n",
            "5                      Di K  ...                     0.248408\n",
            "6                      Mr M  ...                     0.372340\n",
            "7                 Uncle Nic  ...                     0.474039\n",
            "8             Mashinani Man  ...                     0.384196\n",
            "9                Alan Cohen  ...                     0.522690\n",
            "10         Mendel Kalmenson  ...                     0.417874\n",
            "11          Bonnie McDaniel  ...                     0.472564\n",
            "12            Lori Atkinson  ...                     0.672783\n",
            "13               Sunny Daze  ...                     0.143836\n",
            "14           i hate it here  ...                     0.517986\n",
            "15             Taylor Swift  ...                     1.000000\n",
            "16           Jonny Rosemont  ...                     0.419289\n",
            "17            Narendra Modi  ...                     0.999968\n",
            "18                   SpaceX  ...                     0.999995\n",
            "19               KATY PERRY  ...                     0.999998\n",
            "20        Cristiano Ronaldo  ...                     0.999999\n",
            "21  University of Liverpool  ...                     0.987168\n",
            "\n",
            "[22 rows x 4 columns]\n"
          ]
        }
      ]
    },
    {
      "cell_type": "code",
      "source": [
        "initial_df = initial_df.sort_values('User Name')\n",
        "tweet_ids_of_user = []\n",
        "    \n",
        "for user_Id in user_ID:\n",
        "\n",
        "    twEEt = api.user_timeline(user_id = user_Id,count = 10)#count is for no of latest tweets\n",
        "    \n",
        "    for k in twEEt:\n",
        "        tweet_ids_of_user.append(k.id)\n",
        "\n",
        "print(len(tweet_ids_of_user))"
      ],
      "metadata": {
        "colab": {
          "base_uri": "https://localhost:8080/"
        },
        "id": "nuu5-w7tgDQQ",
        "outputId": "3eec6f3d-a73f-4a7e-8ea8-7080eda24b03"
      },
      "execution_count": 3,
      "outputs": [
        {
          "output_type": "stream",
          "name": "stdout",
          "text": [
            "212\n"
          ]
        }
      ]
    },
    {
      "cell_type": "code",
      "source": [
        "USER_NAME = []\n",
        "TEXT = []\n",
        "User_ID = []\n",
        "for j in tweet_ids_of_user:\n",
        "    try:\n",
        "\n",
        "        tweets3 = api.get_status(j)\n",
        "        User_ID.append(tweets3.user.id_str) #For user id\n",
        "        USER_NAME.append(tweets3.user.name) #For user name\n",
        "        TEXT.append(tweets3.text) #Text of latest tweets\n",
        "\n",
        "    except tweepy.TweepError:\n",
        "        \n",
        "        pass\n",
        "\n",
        "\n",
        "d3 = {\"User Name\":USER_NAME,\n",
        "      \"User ID\":User_ID,\n",
        "      \"Tweet text:\":TEXT}\n",
        "\n",
        "text_df = pd.DataFrame(data=d3)\n",
        "print(text_df)\n",
        "\n",
        "text_df.to_csv(\"results_text.csv\",index=False)  #Converting to csv file\n",
        "\n",
        "result = ['[0]', '[1]', '[1]', '[1]', '[1]', '[0]', '[0]', '[0]', '[0]', '[1]', '[1]', '[0]', '[1]', '[1]', '[1]', '[1]', '[1]', '[1]', '[1]', '[1]', '[1]', '[1]', '[1]', '[1]', '[1]', '[1]', '[1]', '[1]', '[1]', '[1]', '[1]', '[1]', '[1]', '[1]', '[1]', '[1]', '[1]', '[1]', '[1]', '[1]', '[1]', '[1]', '[1]', '[0]', '[0]', '[0]', '[1]', '[1]', '[1]', '[0]', '[0]', '[0]', '[0]', \n",
        "'[1]', '[0]', '[1]', '[1]', '[0]', '[1]', '[0]', '[0]', '[1]', '[1]', '[0]', '[1]', '[1]', '[1]', '[0]', '[1]', '[1]', '[1]', '[1]', '[0]', '[1]', '[1]', '[1]', '[0]', '[1]', '[0]', '[1]', '[1]', '[1]', '[1]', '[1]', '[0]', '[1]', '[1]', '[1]', '[1]', '[1]', '[1]', '[1]', '[0]', '[0]', '[1]', '[1]', '[0]', '[0]', '[0]', '[0]', '[1]', '[1]', '[1]', '[1]', '[1]', '[1]', '[0]', '[1]', '[1]', '[1]', '[0]', '[1]', '[1]', '[1]', '[1]', '[1]', '[1]', '[1]', '[1]', '[1]', '[1]', '[1]', '[1]', '[0]', '[0]', '[1]', '[1]', '[0]', '[0]', '[1]', '[0]', '[0]', '[0]', '[0]', '[0]', '[1]', '[1]', '[1]', '[0]', '[1]', '[1]', '[1]', '[1]', '[0]', '[0]', '[1]', '[1]', '[1]', '[1]', '[1]', '[1]', '[0]', '[1]', '[1]', '[0]', '[1]', '[1]', '[0]', '[1]', '[1]', '[1]', '[1]', '[1]', '[1]', '[1]', '[1]', '[0]', '[1]', '[0]', '[0]', '[0]', '[0]', '[1]', '[1]', '[0]', '[1]', '[0]', \n",
        "'[1]', '[0]', '[1]', '[1]', '[1]', '[1]', '[0]', '[0]', '[1]', '[1]', '[1]', '[0]', '[1]', '[1]', '[1]', '[0]', '[1]', '[1]', '[1]', '[1]', '[1]', '[0]', '[1]', '[1]', '[1]', '[1]', '[1]', '[1]', '[1]', '[1]', '[1]', '[1]', '[1]', '[1]', '[0]']\n"
      ],
      "metadata": {
        "colab": {
          "base_uri": "https://localhost:8080/"
        },
        "id": "gt2oqCFpgHVP",
        "outputId": "24bc1f68-64b3-40fd-f67a-bd899a1127ea"
      },
      "execution_count": 4,
      "outputs": [
        {
          "output_type": "stream",
          "name": "stdout",
          "text": [
            "                   User Name  ...                                        Tweet text:\n",
            "0              Mohima Akther  ...  Can you tell fact from fiction?\\n1. The immedi...\n",
            "1              Mohima Akther  ...  @RANDCorporation @DrJaniceJ \\n#factoverfiction...\n",
            "2                 Menstellar  ...  @jsuryareddy67 Wtf? Why attack the consumer? W...\n",
            "3                 Menstellar  ...  Making mistakes are part of being human❤️\\n\\n....\n",
            "4                 Menstellar  ...  🚨 REMINDER: Cut out the toxic people, focus on...\n",
            "..                       ...  ...                                                ...\n",
            "207  University of Liverpool  ...  If you're keen to get your COVID-19 booster ja...\n",
            "208  University of Liverpool  ...  RT @lpoolcouncil: #NEWS | @MayorLpool Joanne A...\n",
            "209  University of Liverpool  ...  As we approach the winter break there are stil...\n",
            "210  University of Liverpool  ...  It's official! Liverpool has been voted the 2n...\n",
            "211  University of Liverpool  ...  RT @LivUniIT: Our Technical Security Team has ...\n",
            "\n",
            "[212 rows x 3 columns]\n"
          ]
        }
      ]
    },
    {
      "cell_type": "code",
      "source": [
        "no_of_likes = []\n",
        "no_of_retweets = []\n",
        "user_screen_name = []\n",
        "user_name = []\n",
        "no_of_tweets = []\n",
        "no_of_followers = []\n",
        "no_of_friends = []\n",
        "\n",
        "for abcd in tweet_ids_of_user:\n",
        "    #Data about individual tweets.\n",
        "    try:\n",
        "        \n",
        "        tweets2 = api.get_status(abcd)\n",
        "        no_of_likes.append(tweets2.favorite_count) #No of likes\n",
        "        no_of_retweets.append(tweets2.retweet_count) #No of retweets\n",
        "        user_screen_name.append(tweets2.user.screen_name) #User screen name\n",
        "        user_name.append(tweets2.user.name) #User name\n",
        "        no_of_tweets.append(tweets2.user.statuses_count) #Tweet count\n",
        "        no_of_followers.append(tweets2.user.followers_count) #Follower count\n",
        "        no_of_friends.append(tweets2.user.friends_count) #Friends count\n",
        "    \n",
        "    except tweepy.errors.TweepyException:\n",
        "        \n",
        "         pass\n",
        "\n",
        "\n",
        "d1 = {\"User Name\":user_name,\n",
        "    \"User Screen Name\":user_screen_name,\n",
        "    \"No of Tweets\":no_of_tweets,\n",
        "    \"No of Followers\":no_of_followers,\n",
        "    \"No of friends\":no_of_friends,\n",
        "    \"No of likes\":no_of_likes,\n",
        "    \"No of retweets\":no_of_retweets}\n",
        "\n",
        "\n",
        "#Visualization\n",
        "final_df = pd.DataFrame(data=d1)\n",
        "\n",
        "\n",
        "new_df = final_df[[\"User Name\",\"No of retweets\",\"No of likes\"]]\n",
        "# print(new_df)\n",
        "new_df = new_df.groupby(['User Name']).sum()\n",
        "#print(new_df)\n",
        "\n",
        "rando = list(initial_df[\"followers to followee ratio\"])\n",
        "new_df[\"followers to followee ratio\"] = rando\n",
        "\n",
        "new_df = new_df.copy()\n",
        "\n",
        "new_df[\"Retweet Ratio\"] = ((new_df[\"No of retweets\"])/((new_df[\"No of retweets\"])+10))# 10 is no of tweets.\n",
        "new_df[\"Likes Ratio\"] = ((new_df[\"No of likes\"])/((new_df[\"No of likes\"])+10))\n",
        "\n",
        "\n",
        "\n",
        "new_df[\"Influence_score\"] = (new_df[\"followers to followee ratio\"]+new_df[\"Retweet Ratio\"]+new_df[\"Likes Ratio\"])/3 #Calculation of influence score\n",
        "#print(new_df)\n",
        "\n",
        "sorted_df = new_df.sort_values([\"Influence_score\"], ascending=False)\n",
        "print(sorted_df[\"Influence_score\"])"
      ],
      "metadata": {
        "colab": {
          "base_uri": "https://localhost:8080/"
        },
        "id": "ohBxkP-FgMAT",
        "outputId": "5d727401-1856-4415-ce40-fd37ca70c5ab"
      },
      "execution_count": 5,
      "outputs": [
        {
          "output_type": "stream",
          "name": "stdout",
          "text": [
            "User Name\n",
            "Taylor Swift               0.999992\n",
            "Cristiano Ronaldo          0.999979\n",
            "Narendra Modi              0.999888\n",
            "KATY PERRY                 0.999795\n",
            "SpaceX                     0.999644\n",
            "University of Liverpool    0.939186\n",
            "SivaKumar S (Stay Safe)    0.938106\n",
            "Lori Atkinson              0.646016\n",
            "Uncle Nic                  0.622299\n",
            "i hate it here             0.582805\n",
            "Sunny Daze                 0.555523\n",
            "#WorldsBaitLeef 🇬🇾         0.501396\n",
            "DoctorCare247              0.474240\n",
            "Mendel Kalmenson           0.423563\n",
            "Alan Cohen                 0.388516\n",
            "Mashinani Man              0.364177\n",
            "Di K                       0.343486\n",
            "Mr M                       0.312148\n",
            "Jonny Rosemont             0.297658\n",
            "Bonnie McDaniel            0.234445\n",
            "Menstellar                 0.111111\n",
            "Mohima Akther              0.085859\n",
            "Name: Influence_score, dtype: float64\n"
          ]
        }
      ]
    },
    {
      "cell_type": "code",
      "source": [
        "calculate_df = pd.read_csv('results_text.csv')\n",
        "#Results are generated using Tf-idf and svm\n",
        "result = ['[0]', '[1]', '[1]', '[1]', '[1]', '[0]', '[0]', '[0]', '[0]', '[1]', '[1]', '[0]', '[1]', '[1]', '[1]', '[1]', '[1]', '[1]', '[1]', '[1]', '[1]', '[1]', '[1]', '[1]', '[1]', '[1]', '[1]', '[1]', '[1]', '[1]', '[1]', '[1]', '[1]', '[1]', '[1]', '[1]', '[1]', '[1]', '[1]', '[1]', '[1]', '[1]', '[1]', '[0]', '[0]', '[0]', '[1]', '[1]', '[1]', '[0]', '[0]', '[0]', '[0]', \n",
        "'[1]', '[0]', '[1]', '[1]', '[0]', '[1]', '[0]', '[0]', '[1]', '[1]', '[0]', '[1]', '[1]', '[1]', '[0]', '[1]', '[1]', '[1]', '[1]', '[0]', '[1]', '[1]', '[1]', '[0]', '[1]', '[0]', '[1]', '[1]', '[1]', '[1]', '[1]', '[0]', '[1]', '[1]', '[1]', '[1]', '[1]', '[1]', '[1]', '[0]', '[0]', '[1]', '[1]', '[0]', '[0]', '[0]', '[0]', '[1]', '[1]', '[1]', '[1]', '[1]', '[1]', '[0]', '[1]', '[1]', '[1]', '[0]', '[1]', '[1]', '[1]', '[1]', '[1]', '[1]', '[1]', '[1]', '[1]', '[1]', '[1]', '[1]', '[0]', '[0]', '[1]', '[1]', '[0]', '[0]', '[1]', '[0]', '[0]', '[0]', '[0]', '[0]', '[1]', '[1]', '[1]', '[0]', '[1]', '[1]', '[1]', '[1]', '[0]', '[0]', '[1]', '[1]', '[1]', '[1]', '[1]', '[1]', '[0]', '[1]', '[1]', '[0]', '[1]', '[1]', '[0]', '[1]', '[1]', '[1]', '[1]', '[1]', '[1]', '[1]', '[1]', '[0]', '[1]', '[0]', '[0]', '[0]', '[0]', '[1]', '[1]', '[0]', '[1]', '[0]', \n",
        "'[1]', '[0]', '[1]', '[1]', '[1]', '[1]', '[0]', '[0]', '[1]', '[1]', '[1]', '[0]', '[1]', '[1]', '[1]', '[0]', '[1]', '[1]', '[1]', '[1]', '[1]', '[0]', '[1]', '[1]', '[1]', '[1]', '[1]', '[1]', '[1]', '[1]', '[1]', '[1]', '[1]', '[1]', '[0]']\n",
        "\n",
        "#print(len(result))\n",
        "calculate_df[\"result\"] = result\n",
        "#print(calculate_df.head)"
      ],
      "metadata": {
        "id": "XMUVbEz4gSGc"
      },
      "execution_count": 6,
      "outputs": []
    },
    {
      "cell_type": "markdown",
      "source": [
        "To find out how many tweets are fake for individual user."
      ],
      "metadata": {
        "id": "wkw-MwhCttvy"
      }
    },
    {
      "cell_type": "code",
      "source": [
        "new_calculate_df = calculate_df[['User Name','result']]\n",
        "#new_calculate_df.head()\n",
        "new_calculate_df1 = new_calculate_df.groupby(['User Name','result']).size().unstack(fill_value = 0)\n",
        "print(new_calculate_df1)"
      ],
      "metadata": {
        "colab": {
          "base_uri": "https://localhost:8080/"
        },
        "id": "w0877Q4tgWMf",
        "outputId": "80fad122-2695-4892-c2b0-ec9a58bd0a35"
      },
      "execution_count": 7,
      "outputs": [
        {
          "output_type": "stream",
          "name": "stdout",
          "text": [
            "result                   [0]  [1]\n",
            "User Name                        \n",
            "#WorldsBaitLeef 🇬🇾         0   10\n",
            "Alan Cohen                 1    9\n",
            "Bonnie McDaniel            2    8\n",
            "Cristiano Ronaldo          2    8\n",
            "Di K                       6    4\n",
            "DoctorCare247              0   10\n",
            "Jonny Rosemont             2    8\n",
            "KATY PERRY                 3    7\n",
            "Lori Atkinson              0   10\n",
            "Mashinani Man              3    7\n",
            "Mendel Kalmenson           6    4\n",
            "Menstellar                 5    5\n",
            "Mohima Akther              1    1\n",
            "Mr M                       5    5\n",
            "Narendra Modi              5    5\n",
            "SivaKumar S (Stay Safe)    0   10\n",
            "SpaceX                     3    7\n",
            "Sunny Daze                 6    4\n",
            "Taylor Swift               3    7\n",
            "Uncle Nic                  2    8\n",
            "University of Liverpool    1    9\n",
            "i hate it here             4    6\n"
          ]
        }
      ]
    },
    {
      "cell_type": "code",
      "source": [
        "new_calculate_df1 = new_calculate_df1[new_calculate_df1[result[0]] > 5] #If more than 5 tweets are fake then user might be a superspreader.\n",
        "\n",
        "superspreader_name_df = pd.DataFrame(new_calculate_df1[\"[0]\"].index.get_level_values('User Name').tolist(),columns = [\"User Name\"])\n",
        "\n",
        "#print(superspreader_name_df)\n",
        "\n",
        "superspreader_name_df\n"
      ],
      "metadata": {
        "colab": {
          "base_uri": "https://localhost:8080/",
          "height": 143
        },
        "id": "IE1YidC5gcDO",
        "outputId": "008f5e25-bd94-4b38-fb7f-e7f4501391fc"
      },
      "execution_count": 8,
      "outputs": [
        {
          "output_type": "execute_result",
          "data": {
            "text/html": [
              "<div>\n",
              "<style scoped>\n",
              "    .dataframe tbody tr th:only-of-type {\n",
              "        vertical-align: middle;\n",
              "    }\n",
              "\n",
              "    .dataframe tbody tr th {\n",
              "        vertical-align: top;\n",
              "    }\n",
              "\n",
              "    .dataframe thead th {\n",
              "        text-align: right;\n",
              "    }\n",
              "</style>\n",
              "<table border=\"1\" class=\"dataframe\">\n",
              "  <thead>\n",
              "    <tr style=\"text-align: right;\">\n",
              "      <th></th>\n",
              "      <th>User Name</th>\n",
              "    </tr>\n",
              "  </thead>\n",
              "  <tbody>\n",
              "    <tr>\n",
              "      <th>0</th>\n",
              "      <td>Di K</td>\n",
              "    </tr>\n",
              "    <tr>\n",
              "      <th>1</th>\n",
              "      <td>Mendel Kalmenson</td>\n",
              "    </tr>\n",
              "    <tr>\n",
              "      <th>2</th>\n",
              "      <td>Sunny Daze</td>\n",
              "    </tr>\n",
              "  </tbody>\n",
              "</table>\n",
              "</div>"
            ],
            "text/plain": [
              "          User Name\n",
              "0              Di K\n",
              "1  Mendel Kalmenson\n",
              "2        Sunny Daze"
            ]
          },
          "metadata": {},
          "execution_count": 8
        }
      ]
    },
    {
      "cell_type": "code",
      "source": [
        "# Scores of all the ratios for superspreader.\n",
        "sorted_df.merge(superspreader_name_df, how='inner', on='User Name')"
      ],
      "metadata": {
        "colab": {
          "base_uri": "https://localhost:8080/",
          "height": 143
        },
        "id": "-FPUkTq0gfYe",
        "outputId": "5153bbd5-813d-4727-998f-dac93efa920d"
      },
      "execution_count": 9,
      "outputs": [
        {
          "output_type": "execute_result",
          "data": {
            "text/html": [
              "<div>\n",
              "<style scoped>\n",
              "    .dataframe tbody tr th:only-of-type {\n",
              "        vertical-align: middle;\n",
              "    }\n",
              "\n",
              "    .dataframe tbody tr th {\n",
              "        vertical-align: top;\n",
              "    }\n",
              "\n",
              "    .dataframe thead th {\n",
              "        text-align: right;\n",
              "    }\n",
              "</style>\n",
              "<table border=\"1\" class=\"dataframe\">\n",
              "  <thead>\n",
              "    <tr style=\"text-align: right;\">\n",
              "      <th></th>\n",
              "      <th>User Name</th>\n",
              "      <th>No of retweets</th>\n",
              "      <th>No of likes</th>\n",
              "      <th>followers to followee ratio</th>\n",
              "      <th>Retweet Ratio</th>\n",
              "      <th>Likes Ratio</th>\n",
              "      <th>Influence_score</th>\n",
              "    </tr>\n",
              "  </thead>\n",
              "  <tbody>\n",
              "    <tr>\n",
              "      <th>0</th>\n",
              "      <td>Sunny Daze</td>\n",
              "      <td>9276</td>\n",
              "      <td>11</td>\n",
              "      <td>0.143836</td>\n",
              "      <td>0.998923</td>\n",
              "      <td>0.523810</td>\n",
              "      <td>0.555523</td>\n",
              "    </tr>\n",
              "    <tr>\n",
              "      <th>1</th>\n",
              "      <td>Mendel Kalmenson</td>\n",
              "      <td>1</td>\n",
              "      <td>32</td>\n",
              "      <td>0.417874</td>\n",
              "      <td>0.090909</td>\n",
              "      <td>0.761905</td>\n",
              "      <td>0.423563</td>\n",
              "    </tr>\n",
              "    <tr>\n",
              "      <th>2</th>\n",
              "      <td>Di K</td>\n",
              "      <td>2</td>\n",
              "      <td>16</td>\n",
              "      <td>0.248408</td>\n",
              "      <td>0.166667</td>\n",
              "      <td>0.615385</td>\n",
              "      <td>0.343486</td>\n",
              "    </tr>\n",
              "  </tbody>\n",
              "</table>\n",
              "</div>"
            ],
            "text/plain": [
              "          User Name  No of retweets  ...  Likes Ratio  Influence_score\n",
              "0        Sunny Daze            9276  ...     0.523810         0.555523\n",
              "1  Mendel Kalmenson               1  ...     0.761905         0.423563\n",
              "2              Di K               2  ...     0.615385         0.343486\n",
              "\n",
              "[3 rows x 7 columns]"
            ]
          },
          "metadata": {},
          "execution_count": 9
        }
      ]
    }
  ]
}